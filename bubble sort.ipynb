{
 "cells": [
  {
   "cell_type": "code",
   "execution_count": 12,
   "metadata": {},
   "outputs": [
    {
     "name": "stdin",
     "output_type": "stream",
     "text": [
      "データはいくつにしますか？ 10\n"
     ]
    },
    {
     "name": "stdout",
     "output_type": "stream",
     "text": [
      "[40, 62, 72, 94, 38, 5, 62, 1, 44, 55]\n"
     ]
    },
    {
     "name": "stdin",
     "output_type": "stream",
     "text": [
      "昇順なら1,降順なら0と入力してください。 1\n"
     ]
    },
    {
     "name": "stdout",
     "output_type": "stream",
     "text": [
      "[40, 62, 72, 38, 94, 5, 62, 1, 44, 55]\n",
      "[40, 62, 72, 38, 5, 94, 62, 1, 44, 55]\n",
      "[40, 62, 72, 38, 5, 62, 94, 1, 44, 55]\n",
      "[40, 62, 72, 38, 5, 62, 1, 94, 44, 55]\n",
      "[40, 62, 72, 38, 5, 62, 1, 44, 94, 55]\n",
      "[40, 62, 72, 38, 5, 62, 1, 44, 55, 94]\n",
      "[40, 62, 38, 72, 5, 62, 1, 44, 55, 94]\n",
      "[40, 62, 38, 5, 72, 62, 1, 44, 55, 94]\n",
      "[40, 62, 38, 5, 62, 72, 1, 44, 55, 94]\n",
      "[40, 62, 38, 5, 62, 1, 72, 44, 55, 94]\n",
      "[40, 62, 38, 5, 62, 1, 44, 72, 55, 94]\n",
      "[40, 62, 38, 5, 62, 1, 44, 55, 72, 94]\n",
      "[40, 38, 62, 5, 62, 1, 44, 55, 72, 94]\n",
      "[40, 38, 5, 62, 62, 1, 44, 55, 72, 94]\n",
      "[40, 38, 5, 62, 1, 62, 44, 55, 72, 94]\n",
      "[40, 38, 5, 62, 1, 44, 62, 55, 72, 94]\n",
      "[40, 38, 5, 62, 1, 44, 55, 62, 72, 94]\n",
      "[38, 40, 5, 62, 1, 44, 55, 62, 72, 94]\n",
      "[38, 5, 40, 62, 1, 44, 55, 62, 72, 94]\n",
      "[38, 5, 40, 1, 62, 44, 55, 62, 72, 94]\n",
      "[38, 5, 40, 1, 44, 62, 55, 62, 72, 94]\n",
      "[38, 5, 40, 1, 44, 55, 62, 62, 72, 94]\n",
      "[5, 38, 40, 1, 44, 55, 62, 62, 72, 94]\n",
      "[5, 38, 1, 40, 44, 55, 62, 62, 72, 94]\n",
      "[5, 1, 38, 40, 44, 55, 62, 62, 72, 94]\n",
      "[1, 5, 38, 40, 44, 55, 62, 62, 72, 94]\n",
      "昇順：[1, 5, 38, 40, 44, 55, 62, 62, 72, 94]\n"
     ]
    }
   ],
   "source": [
    "import random\n",
    "n=int(input(\"データはいくつにしますか？\"))\n",
    "a=[random.randint(1,100) for i in range(n)]\n",
    "print(a) \n",
    "def ascending_bubble(a):\n",
    "    \n",
    "    length=len(a)\n",
    "    for i in range(1,length):\n",
    "        for j in range(0,length-i):\n",
    "            if a[j]>a[j+1]:\n",
    "                a[j],a[j+1]=a[j+1],a[j]\n",
    "                print(a)\n",
    "    return a\n",
    "   \n",
    "def descending_bubble(a):\n",
    "    \n",
    "    length=len(a)\n",
    "    for i in range(1,length):\n",
    "        for j in range(0,length-i):\n",
    "            if a[j]<a[j+1]:\n",
    "                a[j],a[j+1]=a[j+1],a[j]\n",
    "                print(a)\n",
    "    return a\n",
    "   \n",
    "    \n",
    "    \n",
    "  \n",
    "sequential=int(input(\"昇順なら1,降順なら0と入力してください。\"))\n",
    "if sequential==1:\n",
    "    print(f\"昇順：{ascending_bubble(a)}\")\n",
    "    \n",
    "else:\n",
    "    print(f\"降順:{descending_bubble(a)}\")\n",
    "\n",
    "\n"
   ]
  },
  {
   "cell_type": "code",
   "execution_count": null,
   "metadata": {},
   "outputs": [],
   "source": []
  }
 ],
 "metadata": {
  "kernelspec": {
   "display_name": "Python 3",
   "language": "python",
   "name": "python3"
  },
  "language_info": {
   "codemirror_mode": {
    "name": "ipython",
    "version": 3
   },
   "file_extension": ".py",
   "mimetype": "text/x-python",
   "name": "python",
   "nbconvert_exporter": "python",
   "pygments_lexer": "ipython3",
   "version": "3.8.5"
  }
 },
 "nbformat": 4,
 "nbformat_minor": 5
}
